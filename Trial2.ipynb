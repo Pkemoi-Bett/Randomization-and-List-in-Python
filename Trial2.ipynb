{
 "cells": [
  {
   "cell_type": "code",
   "execution_count": 3,
   "id": "64c9e51d",
   "metadata": {},
   "outputs": [
    {
     "name": "stdout",
     "output_type": "stream",
     "text": [
      "Type names separated by a comma: John, Willy, Jane\n",
      "Willy Will pay for the lunch\n"
     ]
    }
   ],
   "source": [
    "import random\n",
    "name_string = input(\"Type names separated by a comma: \")\n",
    "names = name_string.split(\", \")\n",
    "person_who_will_pay = random.choice(names)\n",
    "print(person_who_will_pay + \" Will pay for the lunch\")"
   ]
  },
  {
   "cell_type": "code",
   "execution_count": null,
   "id": "eb8b8114",
   "metadata": {},
   "outputs": [],
   "source": []
  },
  {
   "cell_type": "code",
   "execution_count": null,
   "id": "83e7ac79",
   "metadata": {},
   "outputs": [],
   "source": []
  },
  {
   "cell_type": "code",
   "execution_count": null,
   "id": "e0f5da95",
   "metadata": {},
   "outputs": [],
   "source": []
  }
 ],
 "metadata": {
  "kernelspec": {
   "display_name": "Python 3 (ipykernel)",
   "language": "python",
   "name": "python3"
  },
  "language_info": {
   "codemirror_mode": {
    "name": "ipython",
    "version": 3
   },
   "file_extension": ".py",
   "mimetype": "text/x-python",
   "name": "python",
   "nbconvert_exporter": "python",
   "pygments_lexer": "ipython3",
   "version": "3.11.4"
  }
 },
 "nbformat": 4,
 "nbformat_minor": 5
}
