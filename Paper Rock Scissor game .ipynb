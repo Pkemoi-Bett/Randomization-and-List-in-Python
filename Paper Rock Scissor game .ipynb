{
 "cells": [
  {
   "cell_type": "code",
   "execution_count": 6,
   "id": "d1f7d507",
   "metadata": {},
   "outputs": [
    {
     "name": "stdout",
     "output_type": "stream",
     "text": [
      "What do you want to choose? Type 0 for Rock, 1 for paper and 2 for Scissor2\n",
      "Computer choose 1\n",
      "You Win!!\n"
     ]
    }
   ],
   "source": [
    "import random \n",
    "\n",
    "#prompting a user to type his/her choice \n",
    "\n",
    "user_choice = int(input(\"What do you want to choose? Type 0 for Rock, 1 for paper and 2 for Scissor\"))\n",
    "\n",
    "#Computer Generates random number in a range 0 to 2 using random.randint function\n",
    "computer_choice = random.randint(0,2)\n",
    "print(f\"Computer choose {computer_choice}\")\n",
    "\n",
    "#Conditional and logical block\n",
    "if user_choice >= 3 or user_choice <0:\n",
    "    print(\"You typed an invalid number! You lose\")\n",
    "elif (user_choice == 0 ) and (computer_choice == 2):\n",
    "    print(\"You Win!!\")\n",
    "elif user_choice > computer_choice:\n",
    "    print(\"You Win!!\")\n",
    "elif computer_choice > user_choice:\n",
    "    print(\"You lose!!\")\n",
    "elif computer_choice == user_choice:\n",
    "    print(\"You Draw!!\")\n"
   ]
  },
  {
   "cell_type": "code",
   "execution_count": null,
   "id": "bf26bea2",
   "metadata": {},
   "outputs": [],
   "source": []
  }
 ],
 "metadata": {
  "kernelspec": {
   "display_name": "Python 3 (ipykernel)",
   "language": "python",
   "name": "python3"
  },
  "language_info": {
   "codemirror_mode": {
    "name": "ipython",
    "version": 3
   },
   "file_extension": ".py",
   "mimetype": "text/x-python",
   "name": "python",
   "nbconvert_exporter": "python",
   "pygments_lexer": "ipython3",
   "version": "3.11.4"
  }
 },
 "nbformat": 4,
 "nbformat_minor": 5
}
