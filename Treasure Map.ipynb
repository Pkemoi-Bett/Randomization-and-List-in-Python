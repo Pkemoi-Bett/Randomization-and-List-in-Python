{
 "cells": [
  {
   "cell_type": "code",
   "execution_count": 6,
   "id": "6b810970",
   "metadata": {},
   "outputs": [
    {
     "name": "stdout",
     "output_type": "stream",
     "text": [
      "['X', 'X', 'X']\n",
      "['X', 'X', 'X']\n",
      "['X', 'X', 'X']\n",
      "Where do you want to put the treasure? 23\n",
      "['X', 'X', 'X']\n",
      "['X', 'X', 'X']\n",
      "['X', 'M', 'X']\n"
     ]
    }
   ],
   "source": [
    "\n",
    "row1 =[\"X\", \"X\", \"X\"]\n",
    "row2 =[\"X\", \"X\", \"X\"]\n",
    "row3 =[\"X\", \"X\", \"X\"]\n",
    "map = [row1, row2,row3]\n",
    "\n",
    "print(f\"{row1}\\n{row2}\\n{row3}\")\n",
    "position = input(\"Where do you want to put the treasure? \")\n",
    "\n",
    "#Spliting the input number \n",
    "horizontal = int(position[0])\n",
    "vertical = int(position[1])\n",
    "\n",
    "selected_row = map[vertical-1]\n",
    "selected_row[horizontal-1] = \"M\"\n",
    "\n",
    "print(f\"{row1}\\n{row2}\\n{row3}\")\n",
    "\n"
   ]
  },
  {
   "cell_type": "code",
   "execution_count": null,
   "id": "c353ddda",
   "metadata": {},
   "outputs": [],
   "source": []
  }
 ],
 "metadata": {
  "kernelspec": {
   "display_name": "Python 3 (ipykernel)",
   "language": "python",
   "name": "python3"
  },
  "language_info": {
   "codemirror_mode": {
    "name": "ipython",
    "version": 3
   },
   "file_extension": ".py",
   "mimetype": "text/x-python",
   "name": "python",
   "nbconvert_exporter": "python",
   "pygments_lexer": "ipython3",
   "version": "3.11.4"
  }
 },
 "nbformat": 4,
 "nbformat_minor": 5
}
